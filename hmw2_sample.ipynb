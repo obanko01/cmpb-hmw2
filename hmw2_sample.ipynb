{
 "cells": [
  {
   "cell_type": "code",
   "execution_count": 1,
   "metadata": {
    "collapsed": true,
    "scrolled": true
   },
   "outputs": [],
   "source": [
    "from graphviz import Digraph\n",
    "from matplotlib import pyplot as plt\n",
    "params, section = ['name', 'sequence', 'optional', 'quality'], 4\n",
    "fn = '6/s_6.first1000.fastq'"
   ]
  },
  {
   "cell_type": "code",
   "execution_count": 30,
   "metadata": {
    "collapsed": true
   },
   "outputs": [],
   "source": [
    "class Node():\n",
    "    def __init__(self, value=None):\n",
    "        self.value = value\n",
    "        \n",
    "    def get_value(self):\n",
    "        return self.value\n",
    "\n",
    "class DeBruijnGraph():\n",
    "    def __init__(self):\n",
    "        self.graph = {}\n",
    "        self.nodes = {}\n",
    "        self.edgeWeights = {}\n",
    "                \n",
    "    def add_vertex(self, node_str):\n",
    "        # this adds node as a vertex to graph\n",
    "        if node_str not in self.nodes:\n",
    "            node = Node(node_str)\n",
    "            self.nodes[node_str] = node\n",
    "            self.graph[node] = []\n",
    "            return node\n",
    "        else: return self.nodes[node_str]\n",
    "    \n",
    "    def _reverse(self, genome): #node1, node2):\n",
    "        complement = {'A':'T', 'C':'G', 'G':'C', 'T':'A'}\n",
    "        return ''.join(complement[i] for i in genome[::-1])\n",
    "    \n",
    "    def add_edge(self, node1, node2):\n",
    "        # adds an edge between node1 and node2 and their reverse\n",
    "        prefix_node = self.add_vertex(node1)\n",
    "        suffix_node = self.add_vertex(node2)\n",
    "        self.graph[prefix_node] += [suffix_node]\n",
    "        index = prefix_node.get_value() + suffix_node.get_value()[-1]\n",
    "        self.edgeWeights[index] = self.edgeWeights.get(index, 0) + 1\n",
    "        # add length to each time that this weight is updated.\n",
    "        \n",
    "    def first_node(self, node):\n",
    "        suffix_node = self.add_vertex(node)\n",
    "        count = [1 for n, value in self.graph.items() if suffix_node in value]\n",
    "        return sum(count) == 0\n",
    "    \n",
    "    def make_graph(self, genome, k=3):\n",
    "        for node1, node2 in kmer_generator(genome, k): # forward kmer\n",
    "            self.add_edge(node1, node2)\n",
    "#         for node1, node2 in kmer_generator(self._reverse(genome), k): # reverse kmer\n",
    "#             self.add_edge(node1, node2)\n",
    "\n",
    "class CondensedDeBruijnGraph(DeBruijnGraph):\n",
    "    def __init__(self):\n",
    "        self.graph = {} #from non-condensed\n",
    "        self.nodes = {} #from non-condensed\n",
    "        self.edgeWeights = {} #from non-condensed\n",
    "        self.condensedNodes = [] #{}\n",
    "        self.condensedGraph = {}\n",
    "    \n",
    "    def get_nodes(self):\n",
    "        return self.condensedNodes\n",
    "    \n",
    "    def get_edges(self):\n",
    "        for nodes, value in self.condensedGraph.items():\n",
    "            prefix_node, suffix_node, edge_label = nodes\n",
    "            yield (prefix_node.get_value(), suffix_node.get_value(), edge_label, value)\n",
    "    \n",
    "    def get_condensed_nodes(self):\n",
    "        for node in self.nodes: \n",
    "            prefix_node = self.add_vertex(node)\n",
    "            if len(self.graph[prefix_node])==0: # if this is the last element in the strand\n",
    "                self.condensedNodes.append(node)\n",
    "            elif len(self.graph[prefix_node])>1: # if this element has a branch, \\\n",
    "                #so number of edges leaving is greater than 1 (or entered from more than 1)\n",
    "                self.condensedNodes.append(node)\n",
    "            elif self.first_node(node): #this is the first element in the strand\n",
    "                self.condensedNodes.append(node)\n",
    "\n",
    "    def recurEdge(self, suffix_node, edge_label, weight, kmer_count):\n",
    "        edge_label += suffix_node.get_value()[-1]\n",
    "        if suffix_node.get_value() in self.condensedNodes:\n",
    "            if kmer_count <= 1.0:\n",
    "                return suffix_node, edge_label, 1.0, weight\n",
    "            return suffix_node, edge_label, weight/kmer_count, 1.0\n",
    "        else:\n",
    "            suffix_node_array = self.graph[suffix_node]\n",
    "            index = suffix_node.get_value() + suffix_node_array[0].get_value()[-1]\n",
    "            weight += self.edgeWeights[index]\n",
    "            return self.recurEdge(suffix_node_array[0], edge_label, weight, kmer_count+1.0)\n",
    "    \n",
    "    def make_condensed(self):\n",
    "        self.get_condensed_nodes()\n",
    "        for node in self.condensedNodes: \n",
    "            prefix_node = self.add_vertex(node)\n",
    "            suffix_node_array = self.graph[prefix_node]     \n",
    "            for suffix_node in suffix_node_array:\n",
    "                index = node + suffix_node.get_value()[-1]\n",
    "                weight = self.edgeWeights[index]\n",
    "                cond_node, edge_label, avg_cov, length = self.recurEdge(suffix_node, node, \\\n",
    "                                                                               weight, 1.0)\n",
    "                self.condensedGraph[(prefix_node, cond_node, edge_label)] = avg_cov, length"
   ]
  },
  {
   "cell_type": "code",
   "execution_count": 6,
   "metadata": {
    "collapsed": true
   },
   "outputs": [],
   "source": [
    "def get_reads(fn):\n",
    "    with open(fn, 'r') as file:\n",
    "        lines = []\n",
    "        for line in file:\n",
    "            lines.append(line.rstrip())\n",
    "            if len(lines) == section:\n",
    "                record = {k: v for k, v in zip(params, lines)}\n",
    "                lines = []\n",
    "                yield record['sequence']\n",
    "\n",
    "# write k-mer of graph\n",
    "def kmer_generator(genome, k=3):\n",
    "    i = 0\n",
    "    while i + k < len(genome):\n",
    "        node1, node2 = genome[i:i+k], genome[i+1:i+1+k]\n",
    "        i += 1\n",
    "        yield node1, node2"
   ]
  },
  {
   "cell_type": "code",
   "execution_count": 7,
   "metadata": {
    "collapsed": true
   },
   "outputs": [],
   "source": [
    "# Condensed De Brujin Analysis\n",
    "k = 55\n",
    "genomes = ['AAACTTATGGGACCCA', 'AAACGGGATTATCCCA', 'AAGACTCCGACTGGGACTTT', 'ACGTCCGTAA']\n",
    "graph = CondensedDeBruijnGraph()\n",
    "for genome in get_reads(fn): #get_reads(fn): #genomes[2:]: #\n",
    "    graph.make_graph(genome, k)\n",
    "graph.make_condensed()"
   ]
  },
  {
   "cell_type": "code",
   "execution_count": 8,
   "metadata": {},
   "outputs": [
    {
     "data": {
      "text/plain": [
       "'graph_55mer.pdf'"
      ]
     },
     "execution_count": 8,
     "metadata": {},
     "output_type": "execute_result"
    }
   ],
   "source": [
    "all_edges = [(u, v, w, x[0], x[1]) for u, v, w, x in graph.get_edges()]\n",
    "all_edges = list(set(all_edges))\n",
    "all_nodes = graph.get_nodes()\n",
    "dot = Digraph() #Diagraph(format='png')\n",
    "dict_keys = {all_nodes[i]:str(i) for i in range(len(all_nodes)) } \n",
    "[dot.node(dict_keys[i], i) for i in all_nodes]\n",
    "[dot.edge(dict_keys[i], dict_keys[v], label=w+' ('+'{:.0f}'.format(length)+', '+'{:.2f}'.format(cov)+')') \\\n",
    "                                             for i, v, w, cov, length in all_edges]\n",
    "# [dot.edge(dict_keys[i], dict_keys[v]) for i, v, _, _, _ in all_edges]\n",
    "dot.render('graph_'+str(k)+'mer', view=True)"
   ]
  },
  {
   "cell_type": "markdown",
   "metadata": {},
   "source": [
    "### Graph simplification: Introducing tip removal - Remove short length and small coverage"
   ]
  },
  {
   "cell_type": "code",
   "execution_count": 9,
   "metadata": {
    "collapsed": true
   },
   "outputs": [],
   "source": [
    "length = [y for _,_,_,x,y in all_edges]\n",
    "coverage = [x for _,_,_,x,y in all_edges]"
   ]
  },
  {
   "cell_type": "code",
   "execution_count": 10,
   "metadata": {},
   "outputs": [
    {
     "data": {
      "image/png": "[encoded data removed]",
      "text/plain": [
       "<matplotlib.figure.Figure at 0x109e1a0b8>"
      ]
     },
     "metadata": {},
     "output_type": "display_data"
    }
   ],
   "source": [
    "plt.subplot(121)\n",
    "plt.hist(length, log=True)\n",
    "plt.subplot(122)\n",
    "plt.hist(coverage, log=True)\n",
    "plt.tight_layout()\n",
    "plt.show()"
   ]
  },
  {
   "cell_type": "markdown",
   "metadata": {},
   "source": [
    "### I removed all the tips. Noticed that tips overwhelmingly have a length of 1"
   ]
  },
  {
   "cell_type": "code",
   "execution_count": 12,
   "metadata": {},
   "outputs": [
    {
     "data": {
      "text/plain": [
       "'graph_55mer_notips.pdf'"
      ]
     },
     "execution_count": 12,
     "metadata": {},
     "output_type": "execute_result"
    }
   ],
   "source": [
    "no_edges = [(u, v, w, cov, length) for u, v, w, cov, length in all_edges if length > 1]\n",
    "dot = Digraph() #Diagraph(format='png')\n",
    "[dot.edge(dict_keys[i], dict_keys[v], label=w+' ('+'{:.0f}'.format(length)+', '+'{:.2f}'.format(cov)+')') \\\n",
    "                                             for i, v, w, cov, length in no_edges]\n",
    "# [dot.edge(dict_keys[i], dict_keys[v]) for i, v, _, _, _ in all_edges]\n",
    "dot.render('graph_'+str(k)+'mer_notips', view=True)"
   ]
  },
  {
   "cell_type": "markdown",
   "metadata": {},
   "source": [
    "### Graph simplification: Introducing tip removal - Remove low coverage and short edges"
   ]
  },
  {
   "cell_type": "code",
   "execution_count": 13,
   "metadata": {},
   "outputs": [
    {
     "data": {
      "text/plain": [
       "'graph_55mer_lowCov.pdf'"
      ]
     },
     "execution_count": 13,
     "metadata": {},
     "output_type": "execute_result"
    }
   ],
   "source": [
    "no_edges = [(u, v, w, cov, length) for u, v, w, cov, length in all_edges if length > 250]\n",
    "dot = Digraph()\n",
    "[dot.edge(dict_keys[i], dict_keys[v], label=w+' ('+'{:.0f}'.format(length)+', '+'{:.2f}'.format(cov)+')') \\\n",
    "                                             for i, v, w, cov, length in no_edges]\n",
    "# [dot.edge(dict_keys[i], dict_keys[v]) for i, v, _, _, _ in all_edges]\n",
    "dot.render('graph_55'+str(k)+'mer_lowCov', view=True)"
   ]
  },
  {
   "cell_type": "markdown",
   "metadata": {
    "collapsed": true
   },
   "source": [
    "### Removing low coverage and short edges results in a disconnected graph so I attempted to recreate a condensed graph after removal. This resulted in a more streamlined graph"
   ]
  },
  {
   "cell_type": "markdown",
   "metadata": {},
   "source": [
    "## Try a shorter sequence"
   ]
  },
  {
   "cell_type": "code",
   "execution_count": 40,
   "metadata": {
    "collapsed": true
   },
   "outputs": [],
   "source": [
    "# Condensed De Brujin Analysis\n",
    "k = 21\n",
    "graph = CondensedDeBruijnGraph()\n",
    "for genome in get_reads(fn): #get_reads(fn): #genomes[2:]: #\n",
    "    graph.make_graph(genome, k)\n",
    "graph.make_condensed()"
   ]
  },
  {
   "cell_type": "code",
   "execution_count": 42,
   "metadata": {},
   "outputs": [
    {
     "data": {
      "text/plain": [
       "'graph_forward21mer.png'"
      ]
     },
     "execution_count": 42,
     "metadata": {},
     "output_type": "execute_result"
    }
   ],
   "source": [
    "all_edges = [(u, v, w, x[0], x[1]) for u, v, w, x in graph.get_edges()]\n",
    "all_edges = list(set(all_edges))\n",
    "all_nodes = graph.get_nodes()\n",
    "dot = Digraph(format='png') #Diagraph(format='png')\n",
    "dict_keys = {all_nodes[i]:str(i) for i in range(len(all_nodes)) } \n",
    "# [dot.node(dict_keys[i], i) for i in all_nodes]\n",
    "[dot.edge(dict_keys[i], dict_keys[v], label=w+' ('+'{:.0f}'.format(length)+', '+'{:.2f}'.format(cov)+')') \\\n",
    "                                             for i, v, w, cov, length in all_edges]\n",
    "# [dot.edge(dict_keys[i], dict_keys[v]) for i, v, _, _, _ in all_edges]\n",
    "dot.render('graph_forward'+str(k)+'mer', view=True)"
   ]
  },
  {
   "cell_type": "code",
   "execution_count": null,
   "metadata": {
    "collapsed": true
   },
   "outputs": [],
   "source": []
  }
 ],
 "metadata": {
  "kernelspec": {
   "display_name": "Python 3",
   "language": "python",
   "name": "python3"
  },
  "language_info": {
   "codemirror_mode": {
    "name": "ipython",
    "version": 3
   },
   "file_extension": ".py",
   "mimetype": "text/x-python",
   "name": "python",
   "nbconvert_exporter": "python",
   "pygments_lexer": "ipython3",
   "version": "3.5.1"
  }
 },
 "nbformat": 4,
 "nbformat_minor": 2
}
